{
 "cells": [
  {
   "cell_type": "markdown",
   "id": "2cf6aad0",
   "metadata": {},
   "source": [
    "# Ineuron Python Assignment 3"
   ]
  },
  {
   "cell_type": "markdown",
   "id": "6724be5d",
   "metadata": {},
   "source": [
    "### 1. Why are functions advantageous to have in your programs?"
   ]
  },
  {
   "cell_type": "markdown",
   "id": "0107dc50",
   "metadata": {},
   "source": [
    "#### Ans :\n",
    "Functions reduce the need for duplicate code. This makes programs shorter, easier to read, and easier to update. In short, reduce code complexity."
   ]
  },
  {
   "cell_type": "markdown",
   "id": "6fc91ac0",
   "metadata": {},
   "source": [
    "### 2. When does the code in a function run: when it's specified or when it's called?"
   ]
  },
  {
   "cell_type": "markdown",
   "id": "59aab2ba",
   "metadata": {},
   "source": [
    "#### Ans:\n",
    "the code in a function executes when the function is called, not when the function is defined."
   ]
  },
  {
   "cell_type": "markdown",
   "id": "1913381d",
   "metadata": {},
   "source": [
    "### 3. What statement creates a function?"
   ]
  },
  {
   "cell_type": "markdown",
   "id": "4cf22d44",
   "metadata": {},
   "source": [
    "#### Ans :\n",
    "The def statement defines (that is, creates) a function"
   ]
  },
  {
   "cell_type": "markdown",
   "id": "da63816a",
   "metadata": {},
   "source": [
    "### 4. What is the difference between a function and a function call?### "
   ]
  },
  {
   "cell_type": "markdown",
   "id": "9afea1b8",
   "metadata": {},
   "source": [
    "#### ANS :\n",
    "A function consists of the def statement and the code in its def clause.\n",
    "\n",
    "A function call is what moves the program execution into the function, and the function call evaluates to the function's return value."
   ]
  },
  {
   "cell_type": "markdown",
   "id": "4d37b27d",
   "metadata": {},
   "source": [
    "### 5. How many global scopes are there in a Python program? How many local scopes?"
   ]
  },
  {
   "cell_type": "markdown",
   "id": "6e380cc6",
   "metadata": {},
   "source": [
    "#### Ans\n",
    "There is one global scope, and a local scope is created whenever a function is called."
   ]
  },
  {
   "cell_type": "markdown",
   "id": "b6dbb737",
   "metadata": {},
   "source": [
    "### 6. What happens to variables in a local scope when the function call returns?"
   ]
  },
  {
   "cell_type": "markdown",
   "id": "f2b7d9be",
   "metadata": {},
   "source": [
    "#### Ans :\n",
    "When a function returns, the local scope is destroyed, and all the variables in it are forgotten."
   ]
  },
  {
   "cell_type": "markdown",
   "id": "69d98bd4",
   "metadata": {},
   "source": [
    "### 7. What is the concept of a return value? Is it possible to have a return value in an expression?"
   ]
  },
  {
   "cell_type": "markdown",
   "id": "f7715c9f",
   "metadata": {},
   "source": [
    "#### Ans:\n",
    "A return value is the value that a function call evaluates to. Like any value, a return value can be used as part of an expression"
   ]
  },
  {
   "cell_type": "markdown",
   "id": "5b45e64f",
   "metadata": {},
   "source": [
    "### 8. If a function does not have a return statement, what is the return value of a call to that function?"
   ]
  },
  {
   "cell_type": "markdown",
   "id": "2e6e3ebd",
   "metadata": {},
   "source": [
    "#### Ans: \n",
    "If there is no return statement for a function, its return value is None."
   ]
  },
  {
   "cell_type": "markdown",
   "id": "7cb9ac31",
   "metadata": {},
   "source": [
    "### 9. How do you make a function variable refer to the global variable?"
   ]
  },
  {
   "cell_type": "markdown",
   "id": "1ad7a690",
   "metadata": {},
   "source": [
    "#### Ans: \n",
    "A global statement will force a variable in a function to refer to the global variable."
   ]
  },
  {
   "cell_type": "markdown",
   "id": "d1fd54f2",
   "metadata": {},
   "source": [
    "### 10. What is the data type of None?"
   ]
  },
  {
   "cell_type": "markdown",
   "id": "cca35008",
   "metadata": {},
   "source": [
    "#### Ans :\n",
    "The data type of None is NoneType\n"
   ]
  },
  {
   "cell_type": "markdown",
   "id": "a5771f11",
   "metadata": {},
   "source": [
    "### 11. What does the sentence import areallyourpetsnamederic do?"
   ]
  },
  {
   "cell_type": "markdown",
   "id": "d49ae441",
   "metadata": {},
   "source": [
    "#### Ans:\n",
    " if thre is a module named areallyourpetsnamederic existing in memory it will import it in this case as there is no module name areallyourpetsnamederic it will show Module Not Found Error. \"No module named 'areallyourpetsnamederic'"
   ]
  },
  {
   "cell_type": "markdown",
   "id": "4da97e42",
   "metadata": {},
   "source": [
    "### 12. If you had a bacon() feature in a spam module, what would you call it after importing spam?"
   ]
  },
  {
   "cell_type": "markdown",
   "id": "5d439d34",
   "metadata": {},
   "source": [
    "#### Ans :\n",
    "spam.bacon()"
   ]
  },
  {
   "cell_type": "markdown",
   "id": "85675e2a",
   "metadata": {},
   "source": [
    "### 13. What can you do to save a programme from crashing if it encounters an error?"
   ]
  },
  {
   "cell_type": "markdown",
   "id": "179ad5e9",
   "metadata": {},
   "source": [
    "#### Ans:\n",
    "Error handling can be used to notify the user of why the error occurred and gracefully exit the process that caused the error."
   ]
  },
  {
   "cell_type": "markdown",
   "id": "e9eb5972",
   "metadata": {},
   "source": [
    "### 14. What is the purpose of the try clause? What is the purpose of the except clause?\n",
    "\n"
   ]
  },
  {
   "cell_type": "markdown",
   "id": "ac464544",
   "metadata": {},
   "source": [
    "#### Ans:\n",
    "Try and Except statement is used to handle these errors within our code in Python. The try block is used to check some code for errors i.e the code inside the try block will execute when there is no error in the program. Whereas the code inside the except block will execute whenever the program encounters some error in the preceding try block."
   ]
  },
  {
   "cell_type": "code",
   "execution_count": null,
   "id": "a4273351",
   "metadata": {},
   "outputs": [],
   "source": [
    "def divide(x, y):\n",
    "    try:\n",
    "        result = x / y\n",
    "        print(\"Yeah ! Your answer is :\", result)\n",
    "    except ZeroDivisionError:\n",
    "        print(\"Sorry ! You are dividing by zero \") \n",
    "a = int(input(\"Enter value of a:\"))\n",
    "b = int(input(\"Enter value of b:\"))\n",
    "divide(a, b)"
   ]
  },
  {
   "cell_type": "code",
   "execution_count": null,
   "id": "2496f177",
   "metadata": {},
   "outputs": [],
   "source": []
  },
  {
   "cell_type": "code",
   "execution_count": null,
   "id": "0ffad1d9",
   "metadata": {},
   "outputs": [],
   "source": []
  }
 ],
 "metadata": {
  "kernelspec": {
   "display_name": "Python 3",
   "language": "python",
   "name": "python3"
  },
  "language_info": {
   "codemirror_mode": {
    "name": "ipython",
    "version": 3
   },
   "file_extension": ".py",
   "mimetype": "text/x-python",
   "name": "python",
   "nbconvert_exporter": "python",
   "pygments_lexer": "ipython3",
   "version": "3.8.8"
  }
 },
 "nbformat": 4,
 "nbformat_minor": 5
}
