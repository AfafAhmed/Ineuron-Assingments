{
 "cells": [
  {
   "cell_type": "markdown",
   "id": "b861a0cb",
   "metadata": {},
   "source": [
    "# Ineuron Python Assignment 6"
   ]
  },
  {
   "cell_type": "markdown",
   "id": "2d84bd1f",
   "metadata": {},
   "source": [
    "### 1. What are escape characters, and how do you use them?"
   ]
  },
  {
   "cell_type": "markdown",
   "id": "ad273885",
   "metadata": {},
   "source": [
    "#### Answer:\n",
    "To insert characters that are illegal in a string, use an escape character. An escape character is a backslash \\ followed by the character you want to insert. some of them are \"\\n\", \"\\r\", \"\\t\""
   ]
  },
  {
   "cell_type": "code",
   "execution_count": 3,
   "id": "f5748de4",
   "metadata": {},
   "outputs": [
    {
     "name": "stdout",
     "output_type": "stream",
     "text": [
      "my name is \"afaf\" \n",
      "my name is \tafaf\n",
      "\n",
      "\n",
      "\r",
      "afaf\n"
     ]
    }
   ],
   "source": [
    "fullname = \"my name is \\\"afaf\\\" \"#single quote\n",
    "print(fullname)\n",
    "fullname1 = \"my name is \\tafaf\\n\\n\" #newline and tab\n",
    "print(fullname1)\n",
    "fullname2 = \"\\rafaf\" #\tCarriage Return\n",
    "print(fullname2)"
   ]
  },
  {
   "cell_type": "markdown",
   "id": "88fc0ad6",
   "metadata": {},
   "source": [
    "### 2. What do the escape characters n and t stand for?"
   ]
  },
  {
   "cell_type": "markdown",
   "id": "22d964e9",
   "metadata": {},
   "source": [
    "#### Answer: \n",
    "n stands for newline t stands for tab"
   ]
  },
  {
   "cell_type": "markdown",
   "id": "0cec4e40",
   "metadata": {},
   "source": [
    "### 3. What is the way to include backslash characters in a string?"
   ]
  },
  {
   "cell_type": "markdown",
   "id": "8c8db067",
   "metadata": {},
   "source": [
    "#### Answer:\n",
    "backlash will be printed before afaf"
   ]
  },
  {
   "cell_type": "code",
   "execution_count": 5,
   "id": "3ffd1860",
   "metadata": {},
   "outputs": [
    {
     "name": "stdout",
     "output_type": "stream",
     "text": [
      "My name is \\afaf.\n"
     ]
    }
   ],
   "source": [
    "txt = \"My name is \\\\afaf.\"\n",
    "print(txt)"
   ]
  },
  {
   "cell_type": "markdown",
   "id": "f7de1356",
   "metadata": {},
   "source": [
    "### 4. The string \"Howl's Moving Castle\" is a correct value. Why isn't the single quote character in the word Howl's not escaped a problem?"
   ]
  },
  {
   "cell_type": "markdown",
   "id": "62b57b1a",
   "metadata": {},
   "source": [
    " #### Answer: \n",
    "    Because in the above string double quotes are used to mark the beginning and end of the string."
   ]
  },
  {
   "cell_type": "markdown",
   "id": "2d6e8907",
   "metadata": {},
   "source": [
    "### 5. How do you write a string of newlines if you don't want to use the n character?"
   ]
  },
  {
   "cell_type": "markdown",
   "id": "ae61dae9",
   "metadata": {},
   "source": [
    "#### Answer:\n",
    "     Multiline strings allow you to use newlines in strings without the \\n escape character."
   ]
  },
  {
   "cell_type": "markdown",
   "id": "225f30e7",
   "metadata": {},
   "source": [
    "### 6. What are the values of the given expressions?\n",
    "'Hello, world!'[1],\n",
    "'Hello, world!'[0:5],\n",
    "'Hello, world!'[:5],\n",
    "'Hello, world!'[3:],\n"
   ]
  },
  {
   "cell_type": "code",
   "execution_count": 8,
   "id": "6b0aeeda",
   "metadata": {},
   "outputs": [
    {
     "name": "stdout",
     "output_type": "stream",
     "text": [
      "e\n",
      "Hello\n",
      "Hello\n",
      "lo, world!\n"
     ]
    }
   ],
   "source": [
    "#Answer :\n",
    "print('Hello, world!'[1])\n",
    "print('Hello, world!'[0:5])\n",
    "print('Hello, world!'[:5])\n",
    "print('Hello, world!'[3:])"
   ]
  },
  {
   "cell_type": "markdown",
   "id": "f95e0754",
   "metadata": {},
   "source": [
    "### 7. What are the values of the following expressions?\n",
    "'Hello'.upper(),\n",
    "'Hello'.upper().isupper(),\n",
    "'Hello'.upper().lower(),\n"
   ]
  },
  {
   "cell_type": "code",
   "execution_count": 10,
   "id": "78332a8c",
   "metadata": {},
   "outputs": [
    {
     "name": "stdout",
     "output_type": "stream",
     "text": [
      "HELLO\n",
      "True\n",
      "hello\n"
     ]
    }
   ],
   "source": [
    "#Answer :\n",
    "print('Hello'.upper())\n",
    "\n",
    "print('Hello'.upper().isupper())\n",
    "\n",
    "print('Hello'.upper().lower())"
   ]
  },
  {
   "cell_type": "markdown",
   "id": "c517b06a",
   "metadata": {},
   "source": [
    "### 8. What are the values of the following expressions?\n",
    "'Remember, remember, the fifth of July.'.split()\n",
    "'-'.join('There can only one.'.split())\n"
   ]
  },
  {
   "cell_type": "code",
   "execution_count": 11,
   "id": "076dd4da",
   "metadata": {},
   "outputs": [
    {
     "data": {
      "text/plain": [
       "['Remember,', 'remember,', 'the', 'fifth', 'of', 'July.']"
      ]
     },
     "execution_count": 11,
     "metadata": {},
     "output_type": "execute_result"
    }
   ],
   "source": [
    "# Answers :\n",
    "'Remember, remember, the fifth of July.'.split()"
   ]
  },
  {
   "cell_type": "code",
   "execution_count": 12,
   "id": "c4ebff64",
   "metadata": {},
   "outputs": [
    {
     "data": {
      "text/plain": [
       "'There-can-only-one.'"
      ]
     },
     "execution_count": 12,
     "metadata": {},
     "output_type": "execute_result"
    }
   ],
   "source": [
    "'-'.join('There can only one.'.split())"
   ]
  },
  {
   "cell_type": "markdown",
   "id": "629bec45",
   "metadata": {},
   "source": [
    "### 9. What are the methods for right-justifying, left-justifying, and centering a string?"
   ]
  },
  {
   "cell_type": "markdown",
   "id": "2ff64459",
   "metadata": {},
   "source": [
    "#### Answer: \n",
    "The rjust(), ljust(), and center() string methods, respectively"
   ]
  },
  {
   "cell_type": "code",
   "execution_count": 13,
   "id": "69e4dd4b",
   "metadata": {},
   "outputs": [
    {
     "name": "stdout",
     "output_type": "stream",
     "text": [
      "                                        afafahmed is my name                                        \n",
      "                                                                                afafahmed is my name\n",
      "afafahmed is my name                                                                                \n"
     ]
    }
   ],
   "source": [
    "a = \"afafahmed is my name\"\n",
    "print(a.center(100))\n",
    "print(a.rjust(100))\n",
    "print(a.ljust(100))"
   ]
  },
  {
   "cell_type": "markdown",
   "id": "333b8896",
   "metadata": {},
   "source": [
    "### 10. What is the best way to remove whitespace characters from the start or end?"
   ]
  },
  {
   "cell_type": "markdown",
   "id": "15ce4d62",
   "metadata": {},
   "source": [
    "#### Answer: \n",
    "The lstrip() and rstrip() methods remove whitespace from the left and right ends of a string, respectively."
   ]
  },
  {
   "cell_type": "code",
   "execution_count": 14,
   "id": "0300d2ad",
   "metadata": {},
   "outputs": [
    {
     "name": "stdout",
     "output_type": "stream",
     "text": [
      "afafahmed is my name               \n",
      "          afafahmed is my name\n"
     ]
    }
   ],
   "source": [
    "a = \"          afafahmed is my name               \"\n",
    "print(a.lstrip())\n",
    "print(a.rstrip())"
   ]
  },
  {
   "cell_type": "code",
   "execution_count": null,
   "id": "85a1433e",
   "metadata": {},
   "outputs": [],
   "source": []
  }
 ],
 "metadata": {
  "kernelspec": {
   "display_name": "Python 3",
   "language": "python",
   "name": "python3"
  },
  "language_info": {
   "codemirror_mode": {
    "name": "ipython",
    "version": 3
   },
   "file_extension": ".py",
   "mimetype": "text/x-python",
   "name": "python",
   "nbconvert_exporter": "python",
   "pygments_lexer": "ipython3",
   "version": "3.8.8"
  }
 },
 "nbformat": 4,
 "nbformat_minor": 5
}
