{
 "cells": [
  {
   "cell_type": "markdown",
   "id": "489ec734",
   "metadata": {},
   "source": [
    "# Ineuron Python FSDS Assignment 1"
   ]
  },
  {
   "cell_type": "markdown",
   "id": "8b1ced63",
   "metadata": {},
   "source": [
    "### 1. In the below elements which of them are values or an expression?\n",
    "eg:- values can be integer or string and expressions will be mathematical operators.\n",
    "\n",
    "(*) \n",
    "'hello'\n",
    "-87.8\n",
    "(-) \n",
    "(/) \n",
    "(+)\t\n",
    "6 \n"
   ]
  },
  {
   "cell_type": "markdown",
   "id": "78dccb54",
   "metadata": {},
   "source": [
    "### Ans : \n",
    "* = mathematical operator,\n",
    "'hello' = string,\n",
    "-87.8 = float,\n",
    "- = mathematical operator,\n",
    "/ = mathematical operator,\n",
    "+ = mathematical operator,\n",
    "6 = integer"
   ]
  },
  {
   "cell_type": "markdown",
   "id": "3c33d91f",
   "metadata": {},
   "source": [
    "### 2. What is the difference between string and variable?"
   ]
  },
  {
   "cell_type": "markdown",
   "id": "9b994fa1",
   "metadata": {},
   "source": [
    "### Ans:\n",
    "\n",
    "#### Variables: A variable is an identifier which is used to store a value in a memory location and to manipulate it if needed.\n",
    "\n",
    "Example: x = 10 y = 20\n",
    "\n",
    "#### Strings: Anything assigned to a variable using quotes (single or double) will be considered as a string.\n",
    "\n",
    "Example: a = \"1\" b = \"2\" print(a+b)\n",
    "output: '12'"
   ]
  },
  {
   "cell_type": "markdown",
   "id": "dfe3310e",
   "metadata": {},
   "source": [
    "### 3. Describe three different data types"
   ]
  },
  {
   "cell_type": "markdown",
   "id": "19d3910b",
   "metadata": {},
   "source": [
    "### Ans :\n",
    "Variables can store data of different types, and different types can do different things.\n",
    "\n",
    "Numeric type = integer : a = 6 type(a) output: int OR float : a = 6.3 type(a) output: float\n",
    "\n",
    "Text type = string : a = \"6.3\" type(a) output: string\n",
    "\n",
    "Sequence type = list: a = [\"apple\", \"banana\", \"cherry\"] output: ['apple', 'banana', 'cherry']"
   ]
  },
  {
   "cell_type": "markdown",
   "id": "7893adb0",
   "metadata": {},
   "source": [
    "### 4. What is an expression made up of? What do all expressions do?"
   ]
  },
  {
   "cell_type": "markdown",
   "id": "96ced6da",
   "metadata": {},
   "source": [
    "### Ans: \n",
    "An expression is a combination of values, variables, operators, and calls to functions. Expressions need to be evaluated. If we ask Python to print an expression, the interpreter evaluates the expression and displays the result."
   ]
  },
  {
   "cell_type": "markdown",
   "id": "6920850d",
   "metadata": {},
   "source": [
    "### 5. This assignment statements, like spam = 10. What is the difference between an expression and a statement?"
   ]
  },
  {
   "cell_type": "markdown",
   "id": "152b046a",
   "metadata": {},
   "source": [
    "### Ans :\n",
    "An Expression always evaluates to a value whereas a statement does something, like creating a variable or displaying a value, it only does whatever the statement says. Example: spam = 10 is a statement it is allocating the value 10 to varible spam."
   ]
  },
  {
   "cell_type": "markdown",
   "id": "8ec25e67",
   "metadata": {},
   "source": [
    "### 6. After running the following code, what does the variable bacon contain?\n",
    "bacon = 22, \n",
    "bacon + 1\n"
   ]
  },
  {
   "cell_type": "code",
   "execution_count": 3,
   "id": "0f173d76",
   "metadata": {},
   "outputs": [
    {
     "data": {
      "text/plain": [
       "23"
      ]
     },
     "execution_count": 3,
     "metadata": {},
     "output_type": "execute_result"
    }
   ],
   "source": [
    "bacon = 22\n",
    "bacon + 1"
   ]
  },
  {
   "cell_type": "code",
   "execution_count": 4,
   "id": "fec4f63c",
   "metadata": {},
   "outputs": [
    {
     "name": "stdout",
     "output_type": "stream",
     "text": [
      "22\n"
     ]
    }
   ],
   "source": [
    "print(bacon)"
   ]
  },
  {
   "cell_type": "markdown",
   "id": "6d9b5151",
   "metadata": {},
   "source": [
    " #### in the above code the value was increased to 23 as we added 1 to the pre-existing bacon value but the original alue of bacon will still be 22"
   ]
  },
  {
   "cell_type": "markdown",
   "id": "bb996087",
   "metadata": {},
   "source": [
    "### 7. What should the values of the following two terms be?\n",
    "'spam' + 'spamspam',\n",
    "'spam' * 3\n"
   ]
  },
  {
   "cell_type": "code",
   "execution_count": 6,
   "id": "1e845721",
   "metadata": {},
   "outputs": [
    {
     "data": {
      "text/plain": [
       "'spamspamspam'"
      ]
     },
     "execution_count": 6,
     "metadata": {},
     "output_type": "execute_result"
    }
   ],
   "source": [
    "'spam' + 'spamspam'"
   ]
  },
  {
   "cell_type": "code",
   "execution_count": 8,
   "id": "1c0d3145",
   "metadata": {},
   "outputs": [
    {
     "data": {
      "text/plain": [
       "'spamspamspam'"
      ]
     },
     "execution_count": 8,
     "metadata": {},
     "output_type": "execute_result"
    }
   ],
   "source": [
    "'spam' * 3"
   ]
  },
  {
   "cell_type": "markdown",
   "id": "c06aa9cd",
   "metadata": {},
   "source": [
    "#### in both the conditions the output will remain same spam will be printed three times"
   ]
  },
  {
   "cell_type": "markdown",
   "id": "5f5793bf",
   "metadata": {},
   "source": [
    "### 8. Why is eggs a valid variable name while 100 is invalid?"
   ]
  },
  {
   "cell_type": "markdown",
   "id": "b85cf593",
   "metadata": {},
   "source": [
    "### Ans :\n",
    "In python there are cerrtain varble rules that are needed to be followed. A variable can have a short name (like x and y) or a more descriptive name (age, carname, totalvolume). A variable name must start with a letter or the underscore character A variable name cannot start with a number A variable name can only contain alpha-numeric characters and underscores (A-z, 0-9, and ) Variable names are case-sensitive (age, Age and AGE are three different variables)\n",
    "\n",
    "Thus, eggs being written in form of letters or characters is valid while 100 being an interger is not valid."
   ]
  },
  {
   "cell_type": "markdown",
   "id": "3514b4a9",
   "metadata": {},
   "source": [
    "### 9. What three functions can be used to get the integer, floating-point number, or string version of a value?"
   ]
  },
  {
   "cell_type": "code",
   "execution_count": 9,
   "id": "89437c99",
   "metadata": {},
   "outputs": [
    {
     "name": "stdout",
     "output_type": "stream",
     "text": [
      "<class 'int'>\n",
      "<class 'float'>\n",
      "<class 'str'>\n"
     ]
    }
   ],
   "source": [
    "a = int(5)\n",
    "print(type(a))\n",
    "b = float(5.5)\n",
    "print(type(b))\n",
    "c = str(\"5ashish\")\n",
    "print(type(c))"
   ]
  },
  {
   "cell_type": "markdown",
   "id": "80c27572",
   "metadata": {},
   "source": [
    "### 10. Why does this expression cause an error? How can you fix it?\n",
    "'I have eaten ' + 99 + ' burritos.'"
   ]
  },
  {
   "cell_type": "code",
   "execution_count": 11,
   "id": "b61e80cf",
   "metadata": {},
   "outputs": [
    {
     "ename": "TypeError",
     "evalue": "can only concatenate str (not \"int\") to str",
     "output_type": "error",
     "traceback": [
      "\u001b[1;31m---------------------------------------------------------------------------\u001b[0m",
      "\u001b[1;31mTypeError\u001b[0m                                 Traceback (most recent call last)",
      "\u001b[1;32m<ipython-input-11-d24137131a5c>\u001b[0m in \u001b[0;36m<module>\u001b[1;34m\u001b[0m\n\u001b[1;32m----> 1\u001b[1;33m \u001b[1;34m'I have eaten '\u001b[0m \u001b[1;33m+\u001b[0m \u001b[1;36m99\u001b[0m \u001b[1;33m+\u001b[0m \u001b[1;34m' burritos.'\u001b[0m\u001b[1;33m\u001b[0m\u001b[1;33m\u001b[0m\u001b[0m\n\u001b[0m",
      "\u001b[1;31mTypeError\u001b[0m: can only concatenate str (not \"int\") to str"
     ]
    }
   ],
   "source": [
    "'I have eaten ' + 99 + ' burritos.'"
   ]
  },
  {
   "cell_type": "code",
   "execution_count": 12,
   "id": "d4dc6750",
   "metadata": {},
   "outputs": [
    {
     "data": {
      "text/plain": [
       "'I have eaten 99 burritos.'"
      ]
     },
     "execution_count": 12,
     "metadata": {},
     "output_type": "execute_result"
    }
   ],
   "source": [
    "#Because we can only concatenate str (not \"int\") to str. we can typecast like below to convert int to string\n",
    "'I have eaten ' + str(99) + ' burritos.'"
   ]
  },
  {
   "cell_type": "code",
   "execution_count": null,
   "id": "b8eb5cdd",
   "metadata": {},
   "outputs": [],
   "source": []
  }
 ],
 "metadata": {
  "kernelspec": {
   "display_name": "Python 3",
   "language": "python",
   "name": "python3"
  },
  "language_info": {
   "codemirror_mode": {
    "name": "ipython",
    "version": 3
   },
   "file_extension": ".py",
   "mimetype": "text/x-python",
   "name": "python",
   "nbconvert_exporter": "python",
   "pygments_lexer": "ipython3",
   "version": "3.8.8"
  }
 },
 "nbformat": 4,
 "nbformat_minor": 5
}
