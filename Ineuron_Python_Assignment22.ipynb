{
 "cells": [
  {
   "cell_type": "markdown",
   "id": "fc5971ec",
   "metadata": {},
   "source": [
    "# Ineuron Python Assignment 22"
   ]
  },
  {
   "cell_type": "markdown",
   "id": "fb9effaa",
   "metadata": {},
   "source": [
    "### Ques 1. What is the result of the code, and explain?\n",
    "\n",
    " X = 'iNeuron'\n",
    " def func(): print(X)\n",
    " func()"
   ]
  },
  {
   "cell_type": "markdown",
   "id": "e758ef91",
   "metadata": {},
   "source": [
    "#### Answer"
   ]
  },
  {
   "cell_type": "code",
   "execution_count": 1,
   "id": "99cddab6",
   "metadata": {},
   "outputs": [
    {
     "name": "stdout",
     "output_type": "stream",
     "text": [
      "iNeuron\n"
     ]
    }
   ],
   "source": [
    "X = 'iNeuron'\n",
    "def func():\n",
    "    print(X)\n",
    "func()"
   ]
  },
  {
   "cell_type": "markdown",
   "id": "e81fa937",
   "metadata": {},
   "source": [
    "The Result of this code is iNeuron, it's because the function intially looks for the variable X in its local scope,But since there is no local variable X, its returns the value of global variable x ie iNeuron"
   ]
  },
  {
   "cell_type": "markdown",
   "id": "a4dc9f32",
   "metadata": {},
   "source": [
    "### Ques 2. What is the result of the code, and explain?\n",
    "\n",
    " X = 'iNeuron' , def func(): X = 'NI!'\n",
    "\n",
    ", func() >>> print(X)"
   ]
  },
  {
   "cell_type": "markdown",
   "id": "f270f70d",
   "metadata": {},
   "source": [
    "#### Answer"
   ]
  },
  {
   "cell_type": "code",
   "execution_count": 2,
   "id": "f0f78c9c",
   "metadata": {},
   "outputs": [
    {
     "name": "stdout",
     "output_type": "stream",
     "text": [
      "NI!\n"
     ]
    }
   ],
   "source": [
    "X = 'iNeuron'\n",
    "def func():\n",
    "    X = 'NI!'\n",
    "    print(X)\n",
    "func()"
   ]
  },
  {
   "cell_type": "markdown",
   "id": "5456096e",
   "metadata": {},
   "source": [
    "The Result of this cide is NI!, because the function initially looks for the variable X in its local scope if X is not available then it checks for variable X in the global scope, Since here the X is present in the local scope. it prints the value NI!"
   ]
  },
  {
   "cell_type": "markdown",
   "id": "6f417201",
   "metadata": {},
   "source": [
    "### Ques 3. What does this code print, and why?\n",
    "\n",
    " X = 'iNeuron' >>> def func(): X = 'NI' print(X)\n",
    "\n",
    ", func() >>> print(X)"
   ]
  },
  {
   "cell_type": "markdown",
   "id": "8ccdfc46",
   "metadata": {},
   "source": [
    "#### Answer"
   ]
  },
  {
   "cell_type": "code",
   "execution_count": 3,
   "id": "51d3f931",
   "metadata": {},
   "outputs": [
    {
     "name": "stdout",
     "output_type": "stream",
     "text": [
      "NI\n",
      "iNeuron\n"
     ]
    }
   ],
   "source": [
    "X = 'iNeuron'\n",
    "def func():\n",
    "    X = 'NI'\n",
    "    print(X)\n",
    "func()\n",
    "print(X)"
   ]
  },
  {
   "cell_type": "markdown",
   "id": "3d379afc",
   "metadata": {},
   "source": [
    "The output of the code is NI and iNeuron. X=NI is in the local scope of the function func() hence the function prints the x value as NI. X = 'iNeuron' is in the global scope. hence print(X) prints output as iNeuron"
   ]
  },
  {
   "cell_type": "markdown",
   "id": "3663c612",
   "metadata": {},
   "source": [
    "### Ques 4. What output does this code produce? Why?\n",
    "\n",
    " X = 'iNeuron' >>> def func(): global X X = 'NI'\n",
    "\n",
    ", func() >>> print(X)"
   ]
  },
  {
   "cell_type": "markdown",
   "id": "aac760bb",
   "metadata": {},
   "source": [
    "#### Answer"
   ]
  },
  {
   "cell_type": "code",
   "execution_count": 4,
   "id": "8462b6f7",
   "metadata": {},
   "outputs": [
    {
     "name": "stdout",
     "output_type": "stream",
     "text": [
      "NI\n"
     ]
    }
   ],
   "source": [
    "X = 'iNeuron'\n",
    "def func():\n",
    "    global X\n",
    "    X = 'NI'\n",
    "func()\n",
    "print(X)"
   ]
  },
  {
   "cell_type": "markdown",
   "id": "f026bf03",
   "metadata": {},
   "source": [
    "The output of the code is NI. the global keyword allows a variable to be accessible in the current scope. since we are using global keyword inside the function func it directly access the variable in X in global scope. and changes its value to NI. hence the output of the code is NI"
   ]
  },
  {
   "cell_type": "markdown",
   "id": "fd6a7bc0",
   "metadata": {},
   "source": [
    "### Ques 5. What about this code—what’s the output, and why?\n",
    "\n",
    "X = 'iNeuron' >>> def func(): X = 'NI' def nested(): print(X) nested()\n",
    "\n",
    ", func() >>> X"
   ]
  },
  {
   "cell_type": "markdown",
   "id": "6184e253",
   "metadata": {},
   "source": [
    "#### Answer"
   ]
  },
  {
   "cell_type": "code",
   "execution_count": 5,
   "id": "b05982be",
   "metadata": {},
   "outputs": [
    {
     "name": "stdout",
     "output_type": "stream",
     "text": [
      "NI\n"
     ]
    },
    {
     "data": {
      "text/plain": [
       "'iNeuron'"
      ]
     },
     "execution_count": 5,
     "metadata": {},
     "output_type": "execute_result"
    }
   ],
   "source": [
    "X = 'iNeuron'\n",
    "def func():\n",
    "    X = 'NI'\n",
    "    def nested():\n",
    "        print(X)\n",
    "    nested()\n",
    "func()\n",
    "X"
   ]
  },
  {
   "cell_type": "markdown",
   "id": "3028534a",
   "metadata": {},
   "source": [
    " The output of the code is NI. the reason for this output is if a function wants to access a variable, if its not available in its localscope. it looks for the variable in its global scope. similarly here also function nested looks for variable X in its global scope. hence the output of the code is NI"
   ]
  },
  {
   "cell_type": "markdown",
   "id": "b642f666",
   "metadata": {},
   "source": [
    "### Ques 6. How about this code: what is its output in Python 3, and explain?\n",
    "\n",
    " def func(): X = 'NI' def nested(): nonlocal X X = 'Spam' nested() print(X)\n",
    "\n",
    ", func()"
   ]
  },
  {
   "cell_type": "markdown",
   "id": "cf49128e",
   "metadata": {},
   "source": [
    "#### Answer"
   ]
  },
  {
   "cell_type": "code",
   "execution_count": null,
   "id": "d6981dc3",
   "metadata": {},
   "outputs": [],
   "source": [
    "def func():\n",
    "    X = 'NI'\n",
    "    def nested():\n",
    "        nonlocal X\n",
    "        X = 'Spam'\n",
    "    nested()\n",
    "    print(X)\n",
    "func()"
   ]
  },
  {
   "cell_type": "markdown",
   "id": "e747c9e5",
   "metadata": {},
   "source": [
    "The output of the code is Spam. nonlocal keyword in python is used to declare a variable as not local.Hence the statement X = \"Spam\" is modified in the global scope. hence the output of print(X) statement is Spam"
   ]
  }
 ],
 "metadata": {
  "kernelspec": {
   "display_name": "Python 3",
   "language": "python",
   "name": "python3"
  },
  "language_info": {
   "codemirror_mode": {
    "name": "ipython",
    "version": 3
   },
   "file_extension": ".py",
   "mimetype": "text/x-python",
   "name": "python",
   "nbconvert_exporter": "python",
   "pygments_lexer": "ipython3",
   "version": "3.8.8"
  }
 },
 "nbformat": 4,
 "nbformat_minor": 5
}
