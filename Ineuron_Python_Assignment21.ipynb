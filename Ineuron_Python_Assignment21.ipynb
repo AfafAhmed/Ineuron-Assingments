{
 "cells": [
  {
   "cell_type": "markdown",
   "id": "9c5ae735",
   "metadata": {},
   "source": [
    "# Ineuron Python Assignment 21"
   ]
  },
  {
   "cell_type": "markdown",
   "id": "44840bdf",
   "metadata": {},
   "source": [
    "### 1. Add the current date to the text file today.txt as a string."
   ]
  },
  {
   "cell_type": "markdown",
   "id": "1799dad2",
   "metadata": {},
   "source": [
    "#### Answer"
   ]
  },
  {
   "cell_type": "code",
   "execution_count": 2,
   "id": "82e3d720",
   "metadata": {},
   "outputs": [
    {
     "name": "stdout",
     "output_type": "stream",
     "text": [
      "06-09-2022\n"
     ]
    }
   ],
   "source": [
    "import datetime\n",
    "# Code to Add current date to the today.txt file\n",
    "file = open('today.txt','w')\n",
    "file.write(datetime.datetime.now().strftime(\"%d-%m-%Y\"))\n",
    "file.close()\n",
    "# Code to Read current date from today.txt file\n",
    "file = open('today.txt','r')\n",
    "print(file.read())\n",
    "file.close()"
   ]
  },
  {
   "cell_type": "markdown",
   "id": "9db728ff",
   "metadata": {},
   "source": [
    "### 2. Read the text file today.txt into the string today_string"
   ]
  },
  {
   "cell_type": "markdown",
   "id": "3182cb08",
   "metadata": {},
   "source": [
    "#### Answer"
   ]
  },
  {
   "cell_type": "code",
   "execution_count": 3,
   "id": "11a5627d",
   "metadata": {},
   "outputs": [
    {
     "name": "stdout",
     "output_type": "stream",
     "text": [
      "06-09-2022\n"
     ]
    }
   ],
   "source": [
    "file = open('today.txt','r')\n",
    "today_string = file.read()\n",
    "print(today_string)"
   ]
  },
  {
   "cell_type": "markdown",
   "id": "91fcefb1",
   "metadata": {},
   "source": [
    "### 3. Parse the date from today_string."
   ]
  },
  {
   "cell_type": "markdown",
   "id": "b73f044a",
   "metadata": {},
   "source": [
    "#### Answer"
   ]
  },
  {
   "cell_type": "code",
   "execution_count": 4,
   "id": "7e226523",
   "metadata": {},
   "outputs": [
    {
     "name": "stdout",
     "output_type": "stream",
     "text": [
      "2022-09-06 00:00:00\n"
     ]
    }
   ],
   "source": [
    "from datetime import datetime\n",
    "parsed_data = datetime.strptime(today_string, '%d-%m-%Y')\n",
    "print(parsed_data)"
   ]
  },
  {
   "cell_type": "markdown",
   "id": "c196248f",
   "metadata": {},
   "source": [
    "### 4. List the files in your current directory"
   ]
  },
  {
   "cell_type": "markdown",
   "id": "99ba6649",
   "metadata": {},
   "source": [
    "#### Answer"
   ]
  },
  {
   "cell_type": "code",
   "execution_count": 5,
   "id": "cda1ea12",
   "metadata": {},
   "outputs": [
    {
     "name": "stdout",
     "output_type": "stream",
     "text": [
      "books.csv\n",
      "books.db\n",
      "Ineuron_Python_Assignment-1.ipynb\n",
      "Ineuron_Python_Assignment-10.ipynb\n",
      "Ineuron_Python_Assignment-2.ipynb\n",
      "Ineuron_Python_Assignment-3.ipynb\n",
      "Ineuron_Python_Assignment-4.ipynb\n",
      "Ineuron_Python_Assignment-5.ipynb\n",
      "Ineuron_Python_Assignment-6.ipynb\n",
      "Ineuron_Python_Assignment-7.ipynb\n",
      "Ineuron_Python_Assignment-8.ipynb\n",
      "Ineuron_Python_Assignment-9.ipynb\n",
      "Ineuron_Python_Assignment11.ipynb\n",
      "Ineuron_Python_Assignment12.ipynb\n",
      "Ineuron_Python_Assignment13.ipynb\n",
      "Ineuron_Python_Assignment14.ipynb\n",
      "Ineuron_Python_Assignment15.ipynb\n",
      "Ineuron_Python_Assignment16.ipynb\n",
      "Ineuron_Python_Assignment17.ipynb\n",
      "Ineuron_Python_Assignment18.ipynb\n",
      "Ineuron_Python_Assignment19.ipynb\n",
      "Ineuron_Python_Assignment20.ipynb\n",
      "Ineuron_Python_Assignment21.ipynb\n",
      "Ineuron_Python_Assignment22.ipynb\n",
      "Ineuron_Python_Assignment23.ipynb\n",
      "Ineuron_Python_Assignment24.ipynb\n",
      "Ineuron_Python_Assignment25.ipynb\n",
      "test.txt\n",
      "today.txt\n",
      "Ineuron_Python_Assignment-1-checkpoint.ipynb\n",
      "Ineuron_Python_Assignment-10-checkpoint.ipynb\n",
      "Ineuron_Python_Assignment-2-checkpoint.ipynb\n",
      "Ineuron_Python_Assignment-3-checkpoint.ipynb\n",
      "Ineuron_Python_Assignment-4-checkpoint.ipynb\n",
      "Ineuron_Python_Assignment-5-checkpoint.ipynb\n",
      "Ineuron_Python_Assignment-6-checkpoint.ipynb\n",
      "Ineuron_Python_Assignment-7-checkpoint.ipynb\n",
      "Ineuron_Python_Assignment-8-checkpoint.ipynb\n",
      "Ineuron_Python_Assignment-9-checkpoint.ipynb\n",
      "Ineuron_Python_Assignment11-checkpoint.ipynb\n",
      "Ineuron_Python_Assignment12-checkpoint.ipynb\n",
      "Ineuron_Python_Assignment13-checkpoint.ipynb\n",
      "Ineuron_Python_Assignment14-checkpoint.ipynb\n",
      "Ineuron_Python_Assignment15-checkpoint.ipynb\n",
      "Ineuron_Python_Assignment16-checkpoint.ipynb\n",
      "Ineuron_Python_Assignment17-checkpoint.ipynb\n",
      "Ineuron_Python_Assignment18-checkpoint.ipynb\n",
      "Ineuron_Python_Assignment19-checkpoint.ipynb\n",
      "Ineuron_Python_Assignment20-checkpoint.ipynb\n",
      "Ineuron_Python_Assignment21-checkpoint.ipynb\n",
      "Ineuron_Python_Assignment22-checkpoint.ipynb\n",
      "Ineuron_Python_Assignment23-checkpoint.ipynb\n",
      "Ineuron_Python_Assignment24-checkpoint.ipynb\n",
      "Ineuron_Python_Assignment25-checkpoint.ipynb\n"
     ]
    }
   ],
   "source": [
    "import os\n",
    "for folders, subfolders, files in os.walk(os.getcwd()):\n",
    "    for file in files:\n",
    "        print(file)"
   ]
  },
  {
   "cell_type": "markdown",
   "id": "56e00056",
   "metadata": {},
   "source": [
    "### 5. Create a list of all of the files in your parent directory (minimum five files should be available)."
   ]
  },
  {
   "cell_type": "markdown",
   "id": "44897391",
   "metadata": {},
   "source": [
    "#### Answer"
   ]
  },
  {
   "cell_type": "code",
   "execution_count": 6,
   "id": "d33444c3",
   "metadata": {},
   "outputs": [
    {
     "data": {
      "text/plain": [
       "['.ipynb_checkpoints',\n",
       " 'books.csv',\n",
       " 'books.db',\n",
       " 'Ineuron_Python_Assignment-1.ipynb',\n",
       " 'Ineuron_Python_Assignment-10.ipynb',\n",
       " 'Ineuron_Python_Assignment-2.ipynb',\n",
       " 'Ineuron_Python_Assignment-3.ipynb',\n",
       " 'Ineuron_Python_Assignment-4.ipynb',\n",
       " 'Ineuron_Python_Assignment-5.ipynb',\n",
       " 'Ineuron_Python_Assignment-6.ipynb',\n",
       " 'Ineuron_Python_Assignment-7.ipynb',\n",
       " 'Ineuron_Python_Assignment-8.ipynb',\n",
       " 'Ineuron_Python_Assignment-9.ipynb',\n",
       " 'Ineuron_Python_Assignment11.ipynb',\n",
       " 'Ineuron_Python_Assignment12.ipynb',\n",
       " 'Ineuron_Python_Assignment13.ipynb',\n",
       " 'Ineuron_Python_Assignment14.ipynb',\n",
       " 'Ineuron_Python_Assignment15.ipynb',\n",
       " 'Ineuron_Python_Assignment16.ipynb',\n",
       " 'Ineuron_Python_Assignment17.ipynb',\n",
       " 'Ineuron_Python_Assignment18.ipynb',\n",
       " 'Ineuron_Python_Assignment19.ipynb',\n",
       " 'Ineuron_Python_Assignment20.ipynb',\n",
       " 'Ineuron_Python_Assignment21.ipynb',\n",
       " 'Ineuron_Python_Assignment22.ipynb',\n",
       " 'Ineuron_Python_Assignment23.ipynb',\n",
       " 'Ineuron_Python_Assignment24.ipynb',\n",
       " 'Ineuron_Python_Assignment25.ipynb',\n",
       " 'test.txt',\n",
       " 'today.txt']"
      ]
     },
     "execution_count": 6,
     "metadata": {},
     "output_type": "execute_result"
    }
   ],
   "source": [
    "import os \n",
    "os.listdir()"
   ]
  },
  {
   "cell_type": "markdown",
   "id": "1e7f87cf",
   "metadata": {},
   "source": [
    "### 6. Use multiprocessing to create three separate processes. Make each one wait a random number of seconds between one and five, print the current time, and then exit."
   ]
  },
  {
   "cell_type": "markdown",
   "id": "2c6b00aa",
   "metadata": {},
   "source": [
    "#### Answer"
   ]
  },
  {
   "cell_type": "code",
   "execution_count": 7,
   "id": "b6e4b3df",
   "metadata": {},
   "outputs": [],
   "source": [
    "import multiprocessing\n",
    "import time \n",
    "import random\n",
    "import datetime\n",
    "\n",
    "def procOne():\n",
    "    print(f'Proc_one_Starttime -> {datetime.datetime.now()}')\n",
    "    time.sleep(random.randint(1,5))\n",
    "    print(f'Proc_one_Endtime -> {datetime.datetime.now()}')\n",
    "    \n",
    "def procTwo():\n",
    "    print(f'Proc_two_Starttime -> {datetime.datetime.now()}')\n",
    "    time.sleep(random.randint(1,5))\n",
    "    print(f'Proc_two_Endtime -> {datetime.datetime.now()}')\n",
    "\n",
    "def procThree():\n",
    "    print(f'Proc_two_Starttime -> {datetime.datetime.now()}')\n",
    "    time.sleep(random.randint(1,5))\n",
    "    print(f'Proc_two_Endtime -> {datetime.datetime.now()}')\n",
    "    \n",
    "if __name__ == \"__main__\":    \n",
    "    p1 = multiprocessing.Process(target=procOne)\n",
    "    p2 = multiprocessing.Process(target=procTwo)\n",
    "    p3 = multiprocessing.Process(target=procThree)\n",
    "\n",
    "    p1.start()\n",
    "    p2.start()\n",
    "    p3.start()\n",
    "\n",
    "    p1.join()\n",
    "    p2.join()\n",
    "    p3.join()"
   ]
  },
  {
   "cell_type": "markdown",
   "id": "0de63ed6",
   "metadata": {},
   "source": [
    "### 7. Create a date object of your day of birth."
   ]
  },
  {
   "cell_type": "markdown",
   "id": "0091c1e0",
   "metadata": {},
   "source": [
    "#### Answer"
   ]
  },
  {
   "cell_type": "code",
   "execution_count": 8,
   "id": "f7f602b5",
   "metadata": {},
   "outputs": [
    {
     "name": "stdout",
     "output_type": "stream",
     "text": [
      "1997-04-22 00:00:00 <class 'datetime.datetime'>\n"
     ]
    }
   ],
   "source": [
    "from datetime import datetime\n",
    "my_dob = datetime.strptime('22/04/1997','%d/%m/%Y')\n",
    "print(my_dob, type(my_dob))"
   ]
  },
  {
   "cell_type": "markdown",
   "id": "459789f7",
   "metadata": {},
   "source": [
    "### 8. What day of the week was your day of birth?"
   ]
  },
  {
   "cell_type": "markdown",
   "id": "b6fb868f",
   "metadata": {},
   "source": [
    "#### Answer"
   ]
  },
  {
   "cell_type": "code",
   "execution_count": 9,
   "id": "04f0f8ce",
   "metadata": {},
   "outputs": [
    {
     "data": {
      "text/plain": [
       "'Tuesday'"
      ]
     },
     "execution_count": 9,
     "metadata": {},
     "output_type": "execute_result"
    }
   ],
   "source": [
    "from datetime import datetime\n",
    "my_dob = datetime(1997,4,22)\n",
    "my_dob.strftime(\"%A\")"
   ]
  },
  {
   "cell_type": "markdown",
   "id": "0106944a",
   "metadata": {},
   "source": [
    " ### 9. When will you be (or when were you) 10,000 days old?"
   ]
  },
  {
   "cell_type": "markdown",
   "id": "9a69d64d",
   "metadata": {},
   "source": [
    "#### Answer"
   ]
  },
  {
   "cell_type": "code",
   "execution_count": 1,
   "id": "d88106df",
   "metadata": {},
   "outputs": [
    {
     "data": {
      "text/plain": [
       "datetime.datetime(1969, 12, 5, 0, 0)"
      ]
     },
     "execution_count": 1,
     "metadata": {},
     "output_type": "execute_result"
    }
   ],
   "source": [
    "from datetime import datetime, timedelta\n",
    "my_dob = datetime.strptime(\"22/04/1997\",'%d/%m/%Y')\n",
    "future_date = my_dob-timedelta(10000)\n",
    "future_date"
   ]
  },
  {
   "cell_type": "code",
   "execution_count": null,
   "id": "862e9c58",
   "metadata": {},
   "outputs": [],
   "source": []
  }
 ],
 "metadata": {
  "kernelspec": {
   "display_name": "Python 3",
   "language": "python",
   "name": "python3"
  },
  "language_info": {
   "codemirror_mode": {
    "name": "ipython",
    "version": 3
   },
   "file_extension": ".py",
   "mimetype": "text/x-python",
   "name": "python",
   "nbconvert_exporter": "python",
   "pygments_lexer": "ipython3",
   "version": "3.8.8"
  }
 },
 "nbformat": 4,
 "nbformat_minor": 5
}
