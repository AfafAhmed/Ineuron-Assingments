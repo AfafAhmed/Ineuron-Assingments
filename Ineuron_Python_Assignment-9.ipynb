{
 "cells": [
  {
   "cell_type": "markdown",
   "id": "3605927a",
   "metadata": {},
   "source": [
    "# Ineuron Python Assignment 9"
   ]
  },
  {
   "cell_type": "markdown",
   "id": "cfdaea1a",
   "metadata": {},
   "source": [
    "### 1. To what does a relative path refer?"
   ]
  },
  {
   "cell_type": "markdown",
   "id": "38642f94",
   "metadata": {},
   "source": [
    "#### Answer: '\n",
    "os.path.relpath() method in Python is used to get a relative filepath to the given path either from the current working directory or from the given directory. In short, relative paths are relative to the current working directory."
   ]
  },
  {
   "cell_type": "code",
   "execution_count": null,
   "id": "bad53340",
   "metadata": {},
   "outputs": [],
   "source": [
    "import os\n",
    "path = \"/home / User / Desktop / file.txt\"\n",
    "start = \"/home / User \"\n",
    "relative_path = os.path.relpath(path,start)\n",
    "print(relative_path)"
   ]
  },
  {
   "cell_type": "markdown",
   "id": "652b546a",
   "metadata": {},
   "source": [
    "### 2. What does an absolute path start with your operating system?"
   ]
  },
  {
   "cell_type": "markdown",
   "id": "a7a08745",
   "metadata": {},
   "source": [
    "#### Answer:\n",
    "An absolute path is a path that contains the entire path to the file or directory that we need to access. This path will begin at the home directory of your computer and will end with the file or directory that we wish to access.\n",
    "Absolute paths ensure that Python can find the exact file on computer. Basically we can say that absolute paths start with the root folder, such as / or C:."
   ]
  },
  {
   "cell_type": "markdown",
   "id": "284830cc",
   "metadata": {},
   "source": [
    "### 3. What do the functions os.getcwd() and os.chdir() do?"
   ]
  },
  {
   "cell_type": "markdown",
   "id": "4192be6f",
   "metadata": {},
   "source": [
    "#### Answer: \n",
    "In Python, we can get and change (set) the current working directory with os.getcwd() and os.chdir(). os module is included in the standard library, so no additional installation is required.\n",
    " T he os.getcwd() function returns the current working directory. The os.chdir() function changes the current working directory. "
   ]
  },
  {
   "cell_type": "markdown",
   "id": "f4710776",
   "metadata": {},
   "source": [
    "### 4. What are the . and .. folders?"
   ]
  },
  {
   "cell_type": "markdown",
   "id": "08ac5fff",
   "metadata": {},
   "source": [
    "#### Answer: \n",
    "The . folder is the current folder, and .. is the parent folder."
   ]
  },
  {
   "cell_type": "markdown",
   "id": "d2a3b03e",
   "metadata": {},
   "source": [
    "### 5. In C:\\bacon\\eggs\\spam.txt, which part is the dir name, and which part is the base name?"
   ]
  },
  {
   "cell_type": "markdown",
   "id": "bd04d343",
   "metadata": {},
   "source": [
    "#### Answer:\n",
    "C:\\bacon\\eggs is the dir name, while spam. txt is the base name."
   ]
  },
  {
   "cell_type": "markdown",
   "id": "cddb0e4d",
   "metadata": {},
   "source": [
    "###  6. What are the three “mode” arguments that can be passed to the open() function?"
   ]
  },
  {
   "cell_type": "markdown",
   "id": "9bb3757f",
   "metadata": {},
   "source": [
    "#### Answer :\n",
    "Answer: open(file, mode='r', buffering=-1, encoding=None, errors=None, newline=None, closefd=True, opener=None)\n",
    "\n",
    "r: Opens the file in read-only mode. Starts reading from the beginning of the file and is the default mode for the open() function.\n",
    "\n",
    "w: Opens in write-only mode. The pointer is placed at the beginning of the file and this will overwrite any existing file with the same name. It will create a new file if one with the same name doesn't exist.\n",
    "\n",
    "r+: opens file for reading and writing placing the pointer at the beginning of the file.\n",
    "\n",
    "a: append mode"
   ]
  },
  {
   "cell_type": "markdown",
   "id": "6f53005c",
   "metadata": {},
   "source": [
    "### 7. What happens if an existing file is opened in write mode?"
   ]
  },
  {
   "cell_type": "markdown",
   "id": "2abbbd76",
   "metadata": {},
   "source": [
    "#### Answer: \n",
    "The pointer is placed at the beginning of the file and this will overwrite any existing file with the same name. It will create a new file if one with the same name doesn't exist."
   ]
  },
  {
   "cell_type": "markdown",
   "id": "04601e69",
   "metadata": {},
   "source": [
    "### 8. How do you tell the difference between read() and readlines()?"
   ]
  },
  {
   "cell_type": "markdown",
   "id": "435004fc",
   "metadata": {},
   "source": [
    "#### Answer: \n",
    "The read() method returns the file's entire contents as a single string value. The readlines() method returns a list of strings, where each string is a line from the file's contents."
   ]
  },
  {
   "cell_type": "markdown",
   "id": "76f92449",
   "metadata": {},
   "source": [
    "### 9. What data structure does a shelf value resemble?"
   ]
  },
  {
   "cell_type": "markdown",
   "id": "c958847e",
   "metadata": {},
   "source": [
    "#### Answer: \n",
    "A shelf value resembles a dictionary value; it has keys and values, along with keys() and values() methods that work similarly to the dictionary methods of the same names."
   ]
  },
  {
   "cell_type": "code",
   "execution_count": null,
   "id": "85a058ab",
   "metadata": {},
   "outputs": [],
   "source": []
  }
 ],
 "metadata": {
  "kernelspec": {
   "display_name": "Python 3",
   "language": "python",
   "name": "python3"
  },
  "language_info": {
   "codemirror_mode": {
    "name": "ipython",
    "version": 3
   },
   "file_extension": ".py",
   "mimetype": "text/x-python",
   "name": "python",
   "nbconvert_exporter": "python",
   "pygments_lexer": "ipython3",
   "version": "3.8.8"
  }
 },
 "nbformat": 4,
 "nbformat_minor": 5
}
