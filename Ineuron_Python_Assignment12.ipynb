{
 "cells": [
  {
   "cell_type": "markdown",
   "id": "ebb74028",
   "metadata": {},
   "source": [
    "# Ineuron Python Assignment 12"
   ]
  },
  {
   "cell_type": "markdown",
   "id": "4ef02c0d",
   "metadata": {},
   "source": [
    "### 1. In what modes should the PdfFileReader() and PdfFileWriter() File objects will be opened?"
   ]
  },
  {
   "cell_type": "markdown",
   "id": "8bf633cc",
   "metadata": {},
   "source": [
    "#### Answer: \n",
    "PdfFileReader() needs to be opened in read-binary mode by passing 'rb' as the second argument to open(). Likewise, the File object passed to PyPDF2. PdfFileWriter() needs to be opened in write-binary mode with 'wb'.\n",
    "\n"
   ]
  },
  {
   "cell_type": "markdown",
   "id": "dc33b380",
   "metadata": {},
   "source": [
    "### 2. From a PdfFileReader object, how do you get a Page object for page 5?"
   ]
  },
  {
   "cell_type": "markdown",
   "id": "f053427e",
   "metadata": {},
   "source": [
    "#### Answer:\n",
    "Calling getPage(4) will return a Page object for About this Book, since page 0 is the first page.\n",
    "\n",
    "pageObj = pdfReader.getPage(4)"
   ]
  },
  {
   "cell_type": "markdown",
   "id": "8398711a",
   "metadata": {},
   "source": [
    "### 3. What PdfFileReader variable stores the number of pages in the PDF document?"
   ]
  },
  {
   "cell_type": "markdown",
   "id": "4517a163",
   "metadata": {},
   "source": [
    "#### Answer: \n",
    "The total number of pages in the document is stored in the numPages attribute of a PdfFileReader object.\n",
    "\n"
   ]
  },
  {
   "cell_type": "markdown",
   "id": "7634815b",
   "metadata": {},
   "source": [
    "### 4. If a PdfFileReader object’s PDF is encrypted with the password swordfish, what must you do before you can obtain Page objects from it?"
   ]
  },
  {
   "cell_type": "markdown",
   "id": "24cc7ed1",
   "metadata": {},
   "source": [
    "#### Answer:\n",
    "Call decrypt('swordfish')\n",
    "\n"
   ]
  },
  {
   "cell_type": "markdown",
   "id": "62c13313",
   "metadata": {},
   "source": [
    "### 5. What methods do you use to rotate a page?"
   ]
  },
  {
   "cell_type": "markdown",
   "id": "30f4c450",
   "metadata": {},
   "source": [
    "#### Answer: \n",
    "The rotateClockwise() and rotateCounterClockwise() methods. The degrees to rotate is passed as an integer argument.\n",
    "\n"
   ]
  },
  {
   "cell_type": "markdown",
   "id": "29b59b6b",
   "metadata": {},
   "source": [
    "### 6. What is the difference between a Run object and a Paragraph object?"
   ]
  },
  {
   "cell_type": "markdown",
   "id": "61acdb24",
   "metadata": {},
   "source": [
    "#### Answer:\n",
    "A document contains multiple paragraphs. A paragraph begins on a new line and contains multiple runs. Runs are contiguous groups of characters within a paragraph.\n",
    "\n"
   ]
  },
  {
   "cell_type": "markdown",
   "id": "9a5e6f0d",
   "metadata": {},
   "source": [
    "### 7. How do you obtain a list of Paragraph objects for a Document object that’s stored in a variable named doc?"
   ]
  },
  {
   "cell_type": "markdown",
   "id": "6c3c2e44",
   "metadata": {},
   "source": [
    " #### Answer:\n",
    "    Using doc.paragraphs.\n",
    "\n"
   ]
  },
  {
   "cell_type": "markdown",
   "id": "11bb80b7",
   "metadata": {},
   "source": [
    "### 8. What type of object has bold, underline, italic, strike, and outline variables?"
   ]
  },
  {
   "cell_type": "markdown",
   "id": "c2e7f048",
   "metadata": {},
   "source": [
    "####  Answer:\n",
    "A Run object has these variables (not a paragraph)\n",
    "\n"
   ]
  },
  {
   "cell_type": "markdown",
   "id": "190e640d",
   "metadata": {},
   "source": [
    "### 9. What is the difference between False, True, and None for the bold variable?"
   ]
  },
  {
   "cell_type": "markdown",
   "id": "c49ab0b2",
   "metadata": {},
   "source": [
    "#### Answer: \n",
    "True always makes the Run object bolded and False makes it always not bolded, no matter what the style's bold setting is. None will make the Run object just use the style's bold setting.\n",
    "\n"
   ]
  },
  {
   "cell_type": "markdown",
   "id": "2a8f5b9c",
   "metadata": {},
   "source": [
    "### 10. How do you create a Document object for a new Word document?"
   ]
  },
  {
   "cell_type": "markdown",
   "id": "5553ab6a",
   "metadata": {},
   "source": [
    "#### Answer:\n",
    "Call the docx.Document() function.\n",
    "\n"
   ]
  },
  {
   "cell_type": "markdown",
   "id": "e0a5bc88",
   "metadata": {},
   "source": [
    "### 11. How do you add a paragraph with the text 'Hello, there!' to a Document object stored in a variable named doc?"
   ]
  },
  {
   "cell_type": "markdown",
   "id": "f6649dae",
   "metadata": {},
   "source": [
    "#### Answer:\n",
    "doc.add_paragraph('Hello there!')\n",
    "\n"
   ]
  },
  {
   "cell_type": "markdown",
   "id": "ab7cae4b",
   "metadata": {},
   "source": [
    "### 12. What integers represent the levels of headings available in Word documents?"
   ]
  },
  {
   "cell_type": "markdown",
   "id": "c92ea9de",
   "metadata": {},
   "source": [
    "#### Answer: \n",
    "The integers 0,1,2,3, and 4"
   ]
  },
  {
   "cell_type": "code",
   "execution_count": null,
   "id": "99389dcb",
   "metadata": {},
   "outputs": [],
   "source": []
  }
 ],
 "metadata": {
  "kernelspec": {
   "display_name": "Python 3",
   "language": "python",
   "name": "python3"
  },
  "language_info": {
   "codemirror_mode": {
    "name": "ipython",
    "version": 3
   },
   "file_extension": ".py",
   "mimetype": "text/x-python",
   "name": "python",
   "nbconvert_exporter": "python",
   "pygments_lexer": "ipython3",
   "version": "3.8.8"
  }
 },
 "nbformat": 4,
 "nbformat_minor": 5
}
