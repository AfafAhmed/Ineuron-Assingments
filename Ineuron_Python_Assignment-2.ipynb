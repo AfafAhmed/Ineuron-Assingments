{
 "cells": [
  {
   "cell_type": "markdown",
   "id": "9ca1e099",
   "metadata": {},
   "source": [
    "# Ineuron Python Assignment 2"
   ]
  },
  {
   "cell_type": "markdown",
   "id": "60a26c0e",
   "metadata": {},
   "source": [
    "#### 1.What are the two values of the Boolean data type? How do you write them?"
   ]
  },
  {
   "cell_type": "markdown",
   "id": "b916a8f5",
   "metadata": {},
   "source": [
    "#### Ans :\n",
    "Python boolean type is one of the built-in data types provided by Python, which represents one of the two values i.e. True or False. Generally, it is used to represent the truth values of the expressions."
   ]
  },
  {
   "cell_type": "code",
   "execution_count": 2,
   "id": "c007a165",
   "metadata": {},
   "outputs": [
    {
     "name": "stdout",
     "output_type": "stream",
     "text": [
      "False\n",
      "True\n"
     ]
    }
   ],
   "source": [
    "# Example: \n",
    "var1 = 0 \n",
    "print(bool(var1))\n",
    "var2 = 1 \n",
    "print(bool(var2))"
   ]
  },
  {
   "cell_type": "markdown",
   "id": "69b95c75",
   "metadata": {},
   "source": [
    "### 2. What are the three different types of Boolean operators?"
   ]
  },
  {
   "cell_type": "markdown",
   "id": "8fa917aa",
   "metadata": {},
   "source": [
    "### Ans :\n",
    "There are three logical operators that are used to compare values. They evaluate expressions down to Boolean values, returning either True or False. These operators are and, or, and not."
   ]
  },
  {
   "cell_type": "markdown",
   "id": "a5c7ff5e",
   "metadata": {},
   "source": [
    "### 3. Make a list of each Boolean operator's truth tables (i.e. every possible combination of Boolean values for the operator and what it evaluate )."
   ]
  },
  {
   "cell_type": "code",
   "execution_count": 3,
   "id": "d8f6b9fd",
   "metadata": {},
   "outputs": [
    {
     "name": "stdout",
     "output_type": "stream",
     "text": [
      "[False, True, True, True]\n",
      "[False, False, False, True]\n"
     ]
    }
   ],
   "source": [
    "l1 =[False or False, False or True, True or False, True or True]\n",
    "print(l1)\n",
    "l2 =[False and False, False and True, True and False, True and True]\n",
    "print(l2)"
   ]
  },
  {
   "cell_type": "markdown",
   "id": "944ce601",
   "metadata": {},
   "source": [
    "### 4. What are the values of the following expressions?\n",
    "(5 > 4) and (3 == 5),\n",
    "not (5 > 4),\n",
    "(5 > 4) or (3 == 5),\n",
    "not ((5 > 4) or (3 == 5)),\n",
    "(True and True) and (True == False),\n",
    "(not False) or (not True).\n"
   ]
  },
  {
   "cell_type": "code",
   "execution_count": 5,
   "id": "685d0649",
   "metadata": {},
   "outputs": [
    {
     "name": "stdout",
     "output_type": "stream",
     "text": [
      "False False True False False True\n"
     ]
    }
   ],
   "source": [
    "### Ans :\n",
    "a = (5 > 4) and (3 == 5)\n",
    "b = not (5 > 4)\n",
    "c = (5 > 4) or (3 == 5)\n",
    "d = not ((5 > 4) or (3 == 5))\n",
    "e = (True and True) and (True == False)\n",
    "f = (not False) or (not True)\n",
    "print(a,b,c,d,e,f)\n"
   ]
  },
  {
   "cell_type": "markdown",
   "id": "04b2c14e",
   "metadata": {},
   "source": [
    "### 5. What are the six comparison operators?"
   ]
  },
  {
   "cell_type": "markdown",
   "id": "808aae36",
   "metadata": {},
   "source": [
    "#### Ans:\n",
    "\n",
    "3<5 True (Less then)\n",
    "\n",
    "3>5 False (Greater then)\n",
    "\n",
    "3<=5 True (Less then equal too)\n",
    "\n",
    "3>=5 False (Greater then equal too)\n",
    "\n",
    "3==5 False (equal too equal too)\n",
    "\n",
    "3!=5 True (Not equal too)"
   ]
  },
  {
   "cell_type": "markdown",
   "id": "23c56bf0",
   "metadata": {},
   "source": [
    "### 6. How do you tell the difference between the equal to and assignment operators?Describe a condition and when you would use one"
   ]
  },
  {
   "cell_type": "markdown",
   "id": "48c40ae8",
   "metadata": {},
   "source": [
    "#### Ans\n",
    "The “=” is an assignment operator is used to assign the value on the right to the variable on the left. Example:\n",
    "\n",
    "a = 1\n",
    "\n",
    "b = 2\n",
    "\n",
    "The ‘==’ operator checks whether the two given operands are equal or not. If so, it returns true. Otherwise it returns false.\n",
    "\n",
    "Example: 5==5 Output: True"
   ]
  },
  {
   "cell_type": "markdown",
   "id": "86d01e2d",
   "metadata": {},
   "source": [
    "### 7. Identify the three blocks in this code:\n",
    "spam = 0,\n",
    "if spam == 10:,\n",
    "print('eggs'),\n",
    "if spam > 5:,\n",
    "print('bacon'),\n",
    "else:,\n",
    "print('ham'),\n",
    "print('spam'),\n",
    "print('spam'),\n"
   ]
  },
  {
   "cell_type": "code",
   "execution_count": 7,
   "id": "e82d83e3",
   "metadata": {},
   "outputs": [
    {
     "name": "stdout",
     "output_type": "stream",
     "text": [
      "ham\n",
      "spam\n",
      "spam\n"
     ]
    }
   ],
   "source": [
    "#### Ans :\n",
    "spam = 0\n",
    "if spam == 10: #BLOCK 1 : 1st if condition\n",
    "  print('eggs')\n",
    "elif spam > 5: #BLOCK 2 : elif or if condition\n",
    "  print('bacon')\n",
    "else: #BLOCK 3 : else condition\n",
    "  print('ham')\n",
    "  print('spam')\n",
    "  print('spam')\n",
    "  #in this case the else cindition is true"
   ]
  },
  {
   "cell_type": "markdown",
   "id": "53610295",
   "metadata": {},
   "source": [
    "### 8. Write code that prints Hello if 1 is stored in spam, prints Howdy if 2 is stored in spam, and prints Greetings! if anything else is stored in spam"
   ]
  },
  {
   "cell_type": "code",
   "execution_count": 8,
   "id": "3ef6c039",
   "metadata": {},
   "outputs": [
    {
     "name": "stdout",
     "output_type": "stream",
     "text": [
      "Enter Input value as intergers:1\n",
      "Hello\n"
     ]
    }
   ],
   "source": [
    "spam = int(input(\"Enter Input value as intergers:\"))\n",
    "if spam ==1:\n",
    "  print(\"Hello\")\n",
    "elif spam == 2:\n",
    "  print(\"howdy\")\n",
    "else:\n",
    "  print(\"greetings\")"
   ]
  },
  {
   "cell_type": "markdown",
   "id": "ed216fe7",
   "metadata": {},
   "source": [
    "### 9.If your programme is stuck in an endless loop, what keys you’ll press?"
   ]
  },
  {
   "cell_type": "markdown",
   "id": "7b90b6e4",
   "metadata": {},
   "source": [
    "### Ans:\n",
    "CTRL + C"
   ]
  },
  {
   "cell_type": "markdown",
   "id": "6eebb16f",
   "metadata": {},
   "source": [
    "### 10. How can you tell the difference between break and continue?"
   ]
  },
  {
   "cell_type": "markdown",
   "id": "98a150e6",
   "metadata": {},
   "source": [
    "#### Ans :\n",
    " The main difference between break and continue statement is that when break keyword is encountered, it will exit the loop.\n",
    "\n",
    "In case of continue keyword, the current iteration that is running will be stopped, and it will proceed with the next iteration."
   ]
  },
  {
   "cell_type": "markdown",
   "id": "494d9783",
   "metadata": {},
   "source": [
    "### 11. In a for loop, what is the difference between range(10), range(0, 10), and range(0, 10, 1)?"
   ]
  },
  {
   "cell_type": "markdown",
   "id": "252331ce",
   "metadata": {},
   "source": [
    "#### Ans :\n",
    "range(10), range(0, 10), and range(0, 10, 1) all three are same."
   ]
  },
  {
   "cell_type": "markdown",
   "id": "8f563261",
   "metadata": {},
   "source": [
    "### 12. Write a short program that prints the numbers 1 to 10 using a for loop. Then write an equivalent program that prints the numbers 1 to 10 using a while loop."
   ]
  },
  {
   "cell_type": "code",
   "execution_count": 11,
   "id": "049c5e7e",
   "metadata": {},
   "outputs": [
    {
     "name": "stdout",
     "output_type": "stream",
     "text": [
      "1\n",
      "2\n",
      "3\n",
      "4\n",
      "5\n",
      "6\n",
      "7\n",
      "8\n",
      "9\n",
      "10\n"
     ]
    }
   ],
   "source": [
    "for i in range(1,11):\n",
    "  print(i)"
   ]
  },
  {
   "cell_type": "code",
   "execution_count": 12,
   "id": "7da2ea13",
   "metadata": {},
   "outputs": [
    {
     "name": "stdout",
     "output_type": "stream",
     "text": [
      "1\n",
      "2\n",
      "3\n",
      "4\n",
      "5\n",
      "6\n",
      "7\n",
      "8\n",
      "9\n",
      "10\n"
     ]
    }
   ],
   "source": [
    "i = 1\n",
    "while i <=10:\n",
    "  print(i)\n",
    "  i =i+1"
   ]
  },
  {
   "cell_type": "markdown",
   "id": "18a9a6a2",
   "metadata": {},
   "source": [
    "### 13. If you had a function named bacon() inside a module named spam, how would you call it after importing spam?"
   ]
  },
  {
   "cell_type": "markdown",
   "id": "99055796",
   "metadata": {},
   "source": [
    " This function can be called with spam.bacon()."
   ]
  },
  {
   "cell_type": "code",
   "execution_count": null,
   "id": "b5101cf7",
   "metadata": {},
   "outputs": [],
   "source": []
  }
 ],
 "metadata": {
  "kernelspec": {
   "display_name": "Python 3",
   "language": "python",
   "name": "python3"
  },
  "language_info": {
   "codemirror_mode": {
    "name": "ipython",
    "version": 3
   },
   "file_extension": ".py",
   "mimetype": "text/x-python",
   "name": "python",
   "nbconvert_exporter": "python",
   "pygments_lexer": "ipython3",
   "version": "3.8.8"
  }
 },
 "nbformat": 4,
 "nbformat_minor": 5
}
