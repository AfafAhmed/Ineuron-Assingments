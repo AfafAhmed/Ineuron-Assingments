{
 "cells": [
  {
   "cell_type": "markdown",
   "id": "d68fa61a",
   "metadata": {},
   "source": [
    "# Ineuron Python Assignment 13"
   ]
  },
  {
   "cell_type": "markdown",
   "id": "b3029694",
   "metadata": {},
   "source": [
    "### 1. What advantages do Excel spreadsheets have over CSV spreadsheets?"
   ]
  },
  {
   "cell_type": "markdown",
   "id": "012564bb",
   "metadata": {},
   "source": [
    "#### Answer:\n",
    "In Excel, spreadsheets can have values of data types other than strings; cells can have different fonts, sizes, or color settings; cells can have varying widths and heights; adjacent cells can be merged; and we can embed images and charts.\n",
    "\n"
   ]
  },
  {
   "cell_type": "markdown",
   "id": "f027d48e",
   "metadata": {},
   "source": [
    "### 2.What do you pass to csv.reader() and csv.writer() to create reader and writer objects?"
   ]
  },
  {
   "cell_type": "markdown",
   "id": "ec0a6a5b",
   "metadata": {},
   "source": [
    "#### Answer:\n",
    "We can pass a File object, obtained from a call to open().\n",
    "\n"
   ]
  },
  {
   "cell_type": "markdown",
   "id": "4ddb39bf",
   "metadata": {},
   "source": [
    "### 3. What modes do File objects for reader and writer objects need to be opened in?"
   ]
  },
  {
   "cell_type": "markdown",
   "id": "4464b180",
   "metadata": {},
   "source": [
    "#### Answer:\n",
    "File objects need to be opened in read-binary ('rb') for Reader objects and write-binary ('wb') for Writer objects.\n",
    "\n"
   ]
  },
  {
   "cell_type": "markdown",
   "id": "48a91ed8",
   "metadata": {},
   "source": [
    "### 4. What method takes a list argument and writes it to a CSV file?"
   ]
  },
  {
   "cell_type": "markdown",
   "id": "95d65c2b",
   "metadata": {},
   "source": [
    "#### Answer: \n",
    "The writerow() method\n",
    "\n"
   ]
  },
  {
   "cell_type": "markdown",
   "id": "85c6f24d",
   "metadata": {},
   "source": [
    "### 5. What do the keyword arguments delimiter and line terminator do?"
   ]
  },
  {
   "cell_type": "markdown",
   "id": "d5e9b34f",
   "metadata": {},
   "source": [
    "#### Answer: \n",
    "The delimiter argument changes the string used to separate cells in a row. The lineterminator argument changes the string used to separate rows.\n",
    "\n"
   ]
  },
  {
   "cell_type": "markdown",
   "id": "301b01da",
   "metadata": {},
   "source": [
    "### 6. What function takes a string of JSON data and returns a Python data structure?"
   ]
  },
  {
   "cell_type": "markdown",
   "id": "13b0c347",
   "metadata": {},
   "source": [
    "#### Answer:\n",
    "json.loads()"
   ]
  },
  {
   "cell_type": "markdown",
   "id": "ecbaf88c",
   "metadata": {},
   "source": [
    "### 7. What function takes a Python data structure and returns a string of JSON data?"
   ]
  },
  {
   "cell_type": "markdown",
   "id": "9ca8f3e7",
   "metadata": {},
   "source": [
    "#### Answer:\n",
    "json.dumps()"
   ]
  },
  {
   "cell_type": "code",
   "execution_count": null,
   "id": "c4dd1370",
   "metadata": {},
   "outputs": [],
   "source": []
  }
 ],
 "metadata": {
  "kernelspec": {
   "display_name": "Python 3",
   "language": "python",
   "name": "python3"
  },
  "language_info": {
   "codemirror_mode": {
    "name": "ipython",
    "version": 3
   },
   "file_extension": ".py",
   "mimetype": "text/x-python",
   "name": "python",
   "nbconvert_exporter": "python",
   "pygments_lexer": "ipython3",
   "version": "3.8.8"
  }
 },
 "nbformat": 4,
 "nbformat_minor": 5
}
