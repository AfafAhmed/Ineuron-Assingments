{
 "cells": [
  {
   "cell_type": "markdown",
   "id": "a030d9eb",
   "metadata": {},
   "source": [
    "# Ineuron Python Assignment 7"
   ]
  },
  {
   "cell_type": "markdown",
   "id": "7103a713",
   "metadata": {},
   "source": [
    "### 1. What is the name of the feature responsible for generating Regex objects?"
   ]
  },
  {
   "cell_type": "markdown",
   "id": "2473fd95",
   "metadata": {},
   "source": [
    "#### Answer:\n",
    "The re.compile() function returns Regex objects."
   ]
  },
  {
   "cell_type": "markdown",
   "id": "7665c396",
   "metadata": {},
   "source": [
    "### 2. Why do raw strings often appear in Regex objects?"
   ]
  },
  {
   "cell_type": "markdown",
   "id": "8eb44410",
   "metadata": {},
   "source": [
    "#### Answer:\n",
    "Raw strings are used so that backslashes do not have to be escaped."
   ]
  },
  {
   "cell_type": "markdown",
   "id": "109e8d3c",
   "metadata": {},
   "source": [
    "### 3. What is the return value of the search() method?"
   ]
  },
  {
   "cell_type": "markdown",
   "id": "18b1f002",
   "metadata": {},
   "source": [
    "#### Answer: \n",
    "The search() method returns Match objects."
   ]
  },
  {
   "cell_type": "markdown",
   "id": "d3f9cf0c",
   "metadata": {},
   "source": [
    "### 4. From a Match item, how do you get the actual strings that match the pattern?"
   ]
  },
  {
   "cell_type": "markdown",
   "id": "90194807",
   "metadata": {},
   "source": [
    "#### Answer:\n",
    "The group() method returns strings of the matched text."
   ]
  },
  {
   "cell_type": "markdown",
   "id": "9d4307d9",
   "metadata": {},
   "source": [
    "### 5. In the regex which created from the r'(\\d\\d\\d)-(\\d\\d\\d-\\d\\d\\d\\d)', what does group zero cover? Group 2? Group 1?"
   ]
  },
  {
   "cell_type": "markdown",
   "id": "fc16aa48",
   "metadata": {},
   "source": [
    "#### Answer: \n",
    "Group 0 is the entire match, group 1 covers the first set of parentheses, and group 2 covers the second set of parentheses."
   ]
  },
  {
   "cell_type": "markdown",
   "id": "3dd4986f",
   "metadata": {},
   "source": [
    "### 6. In standard expression syntax, parentheses and intervals have distinct meanings. How can you tell a regex that you want it to fit real parentheses and periods?"
   ]
  },
  {
   "cell_type": "markdown",
   "id": "7b55ce50",
   "metadata": {},
   "source": [
    "#### Answer :\n",
    "Periods and parentheses can be escaped with a backslash: \\., \\(, and \\)."
   ]
  },
  {
   "cell_type": "markdown",
   "id": "f3f13e59",
   "metadata": {},
   "source": [
    "### 7. The findall() method returns a string list or a list of string tuples. What causes it to return one of the two options?"
   ]
  },
  {
   "cell_type": "markdown",
   "id": "a81382db",
   "metadata": {},
   "source": [
    "#### Answer: \n",
    "If the regex has no groups, a list of strings is returned. If the regex has groups, a list of tuples of strings is returned."
   ]
  },
  {
   "cell_type": "markdown",
   "id": "82f9e849",
   "metadata": {},
   "source": [
    "### 8. In standard expressions, what does the | character mean? "
   ]
  },
  {
   "cell_type": "markdown",
   "id": "029b5c8d",
   "metadata": {},
   "source": [
    "#### Answer: \n",
    "The | character signifies matching \"either, or\" between two groups.\n",
    "\n"
   ]
  },
  {
   "cell_type": "markdown",
   "id": "921cacfb",
   "metadata": {},
   "source": [
    "### 9. In regular expressions, what does the character stand for?"
   ]
  },
  {
   "cell_type": "markdown",
   "id": "419a44f9",
   "metadata": {},
   "source": [
    "#### Answer:\n",
    "The ? character can either mean \"match zero or one of the preceding group\" or be used to signify nongreedy matching.\n",
    "\n"
   ]
  },
  {
   "cell_type": "markdown",
   "id": "c877822b",
   "metadata": {},
   "source": [
    "### 10.In regular expressions, what is the difference between the + and * characters?"
   ]
  },
  {
   "cell_type": "markdown",
   "id": "3f731608",
   "metadata": {},
   "source": [
    "#### Answer: \n",
    "The + matches one or more. The * matches zero or more.\n",
    "\n"
   ]
  },
  {
   "cell_type": "markdown",
   "id": "5614b2f3",
   "metadata": {},
   "source": [
    "### 11. What is the difference between {4} and {4,5} in regular expression?"
   ]
  },
  {
   "cell_type": "markdown",
   "id": "019d716c",
   "metadata": {},
   "source": [
    "#### Answer: \n",
    "The {4} matches exactly four instances of the preceding group. The {4,5} matches between four and five instances.\n",
    "\n"
   ]
  },
  {
   "cell_type": "markdown",
   "id": "59b10eac",
   "metadata": {},
   "source": [
    "### 12. What do you mean by the \\d, \\w, and \\s shorthand character classes signify in regular expressions?"
   ]
  },
  {
   "cell_type": "markdown",
   "id": "2cceb93e",
   "metadata": {},
   "source": [
    "#### Answer:\n",
    "\\d returns a match where the string contains digits (numbers from 0-9)\n",
    "\n",
    "\\w returns a match where the string contains any word characters (characters from a to Z, digits from 0-9, and the underscore _ character)\n",
    "\n",
    "\\s returns a match where the string contains a white space character\n",
    "\n"
   ]
  },
  {
   "cell_type": "code",
   "execution_count": 2,
   "id": "fa1d5e59",
   "metadata": {},
   "outputs": [
    {
     "name": "stdout",
     "output_type": "stream",
     "text": [
      "[]\n",
      "No match\n"
     ]
    }
   ],
   "source": [
    "import re\n",
    "text = \"My name is ashish\"\n",
    "x = re.findall(\"\\d\", text)\n",
    "print(x)\n",
    "if x:\n",
    "  print(\"Yes, there is at least one match!\")\n",
    "else:\n",
    "  print(\"No match\")"
   ]
  },
  {
   "cell_type": "code",
   "execution_count": 3,
   "id": "abcef143",
   "metadata": {},
   "outputs": [
    {
     "name": "stdout",
     "output_type": "stream",
     "text": [
      "['M', 'y', 'n', 'a', 'm', 'e', 'i', 's', 'a', 's', 'h', 'i', 's', 'h']\n",
      "Yes, there is at least one match!\n"
     ]
    }
   ],
   "source": [
    "import re\n",
    "text = \"My name is ashish\"\n",
    "x = re.findall(\"\\w\", text)\n",
    "print(x)\n",
    "if x:\n",
    "  print(\"Yes, there is at least one match!\")\n",
    "else:\n",
    "  print(\"No match\")"
   ]
  },
  {
   "cell_type": "code",
   "execution_count": 4,
   "id": "a1a47e1a",
   "metadata": {},
   "outputs": [
    {
     "name": "stdout",
     "output_type": "stream",
     "text": [
      "[' ', ' ', ' ']\n",
      "Yes, there is at least one match!\n"
     ]
    }
   ],
   "source": [
    "import re\n",
    "text = \"My name is ashish\"\n",
    "x = re.findall(\"\\s\", text)\n",
    "print(x)\n",
    "if x:\n",
    "  print(\"Yes, there is at least one match!\")\n",
    "else:\n",
    "  print(\"No match\")"
   ]
  },
  {
   "cell_type": "markdown",
   "id": "2f13bee1",
   "metadata": {},
   "source": [
    "### 13. What do means by \\D, \\W, and \\S shorthand character classes signify in regular expressions?"
   ]
  },
  {
   "cell_type": "markdown",
   "id": "b99e6445",
   "metadata": {},
   "source": [
    "#### Answer :\n",
    "\\D returns a match where the string DOES NOT contain digits\n",
    "\n",
    "\\W returns a match where the string DOES NOT contain any word characters\n",
    "\n",
    "\\S returns a match where the string DOES NOT contain a white space character"
   ]
  },
  {
   "cell_type": "markdown",
   "id": "40ccd4df",
   "metadata": {},
   "source": [
    "### 14. What is the difference between .*? and .*?"
   ]
  },
  {
   "cell_type": "markdown",
   "id": "abd3f034",
   "metadata": {},
   "source": [
    "#### Answer:\n",
    ".*? this will check 0 or 1 occurances of any character while .* checks 0 or more  occurances of any characters. In this scenario\n",
    "#.* will be implemented and check for  0 or more  occurances of any characters. examples are mentioned below"
   ]
  },
  {
   "cell_type": "code",
   "execution_count": 5,
   "id": "27aad402",
   "metadata": {},
   "outputs": [
    {
     "name": "stdout",
     "output_type": "stream",
     "text": [
      "['hello']\n"
     ]
    }
   ],
   "source": [
    "import re\n",
    "txt = \"hello ashish\"\n",
    "#Search for a sequence that starts with \"he\", followed by 0 or more  (any) characters, and an \"o\":\n",
    "x = re.findall(\"he.*o\", txt)\n",
    "print(x)"
   ]
  },
  {
   "cell_type": "code",
   "execution_count": 6,
   "id": "fa23990c",
   "metadata": {},
   "outputs": [
    {
     "name": "stdout",
     "output_type": "stream",
     "text": [
      "[]\n"
     ]
    }
   ],
   "source": [
    "import re\n",
    "txt = \"hello ashish\"\n",
    "#Search for a sequence that starts with \"he\", followed by 0 or 1  (any) character, and an \"o\":\n",
    "x = re.findall(\"he.?o\", txt)\n",
    "print(x)\n",
    "#This time we got no match, because there were not zero, not one, but two characters between \"he\" and the \"o\""
   ]
  },
  {
   "cell_type": "markdown",
   "id": "1b4c0bd3",
   "metadata": {},
   "source": [
    "### 15. What is the syntax for matching both numbers and lowercase letters with a character class?"
   ]
  },
  {
   "cell_type": "code",
   "execution_count": 7,
   "id": "b1e6546b",
   "metadata": {},
   "outputs": [
    {
     "name": "stdout",
     "output_type": "stream",
     "text": [
      "['m', 'y', 'n', 'a', 'm', 'e', 'i', 's', 'a', 's', 'h', 'i', 's', 'h', '1', '2', '3', '5', '0']\n",
      "Yes, there is at least one match!\n"
     ]
    }
   ],
   "source": [
    "# Answer :\n",
    "import re\n",
    "txt = \"my name is ashish 12350\"\n",
    "#Check if the string has any characters between a and z:\n",
    "x = re.findall(\"[a-z,0-9]\", txt)\n",
    "print(x)\n",
    "if x:\n",
    "  print(\"Yes, there is at least one match!\")\n",
    "else:\n",
    "  print(\"No match\")"
   ]
  },
  {
   "cell_type": "markdown",
   "id": "fcfa1115",
   "metadata": {},
   "source": [
    "### 16. What is the procedure for making a normal expression in regax case insensitive?"
   ]
  },
  {
   "cell_type": "markdown",
   "id": "8e40d5ad",
   "metadata": {},
   "source": [
    "#### Answer:\n",
    "How do you make a regular expression case-insensitive in Python? IGNORECASE : This flag allows for case-insensitive matching of the Regular Expression with the given string i.e. expressions like [A-Z] will match lowercase letters, too. Generally, It's passed as an optional argument to re. compile() ."
   ]
  },
  {
   "cell_type": "code",
   "execution_count": 8,
   "id": "07dede9e",
   "metadata": {},
   "outputs": [
    {
     "name": "stdout",
     "output_type": "stream",
     "text": [
      "['M', 'y', 'n', 'a', 'm', 'e', 'i', 's', 'a', 's', 'h', 'i', 's', 'h', '1', '2', '3', '5', '0']\n",
      "Yes, there is at least one match!\n"
     ]
    }
   ],
   "source": [
    "import re\n",
    "txt = \"My name is ashish 12350\"\n",
    "#Check if the string has any characters between a and z:\n",
    "x = re.findall(\"[A-Z,a-z,0-9]\", txt, re.IGNORECASE)\n",
    "print(x)\n",
    "if x:\n",
    "  print(\"Yes, there is at least one match!\")\n",
    "else:\n",
    "  print(\"No match\")"
   ]
  },
  {
   "cell_type": "markdown",
   "id": "6b0f854a",
   "metadata": {},
   "source": [
    "### 17. What does the . character normally match? What does it match if re.DOTALL is passed as 2nd argument in re.compile()?"
   ]
  },
  {
   "cell_type": "markdown",
   "id": "ba55c8ed",
   "metadata": {},
   "source": [
    "#### Answer: \n",
    "If re. DOTALL is passed as the second argument to re. compile(), then the dot will also match newline characters."
   ]
  },
  {
   "cell_type": "markdown",
   "id": "f6d2c8fe",
   "metadata": {},
   "source": [
    "### 18. If numReg = re.compile(r'\\d+'), what will numRegex.sub('X', '11 drummers, 10 pipers, five rings, 4 hen') return?"
   ]
  },
  {
   "cell_type": "markdown",
   "id": "5676df1a",
   "metadata": {},
   "source": [
    "#### Answer:\n",
    "numRegex.sub('X', '11 drummers, 10 pipers, five rings, 4 hen') will relace one or many mathes of \"X\" with \"11 drummers, 10 pipers, five rings, 4 hen\"\n",
    "\n"
   ]
  },
  {
   "cell_type": "markdown",
   "id": "c761dd86",
   "metadata": {},
   "source": [
    "### 19. What does passing re.VERBOSE as the 2nd argument to re.compile() allow to do?"
   ]
  },
  {
   "cell_type": "markdown",
   "id": "a49864f4",
   "metadata": {},
   "source": [
    "#### Answer: \n",
    "re.VERBOSE flag allows us to write regular expressions that look nicer and are more readable by allowing us to visually separate logical sections of the pattern and add comments.\n",
    "\n",
    "Whitespace within the pattern is ignored, except when in a character class, or when preceded by an unescaped backslash, or within tokens like *?, (?: or (?P. When a line contains a # that is not in a character class and is not preceded by an unescaped backslash, all characters from the leftmost such # through the end of the line are ignored."
   ]
  },
  {
   "cell_type": "code",
   "execution_count": 9,
   "id": "a74589dd",
   "metadata": {},
   "outputs": [
    {
     "name": "stdout",
     "output_type": "stream",
     "text": [
      "singh.ashish.kr96@gmail.com is Valid. Details are as follow:\n",
      "Local:singh.ashish.kr96\n",
      "Domain:gmail\n",
      "Top Level domain:com\n",
      "\n",
      "ashishkumar123@yahoo.com@ is Invalid\n",
      "ashish@.com is Invalid\n"
     ]
    }
   ],
   "source": [
    "import re\n",
    "def validate_email(email):\n",
    "    # RegexObject = re.compile( Regular expression, flag )\n",
    "    # Compiles a regular expression pattern into a regular expression object\n",
    "\tregex_email=re.compile(r\"\"\"\n",
    "\t\t\t\t\t\t^([a-z0-9_\\.-]+)  # local Part\n",
    "\t\t\t\t\t\t@\t\t\t\t\t\t\t           # single @ sign\n",
    "\t\t\t\t\t\t\t([0-9a-z\\.-]+)\t\t\t\t # Domain name\n",
    "\t\t\t\t\t\t\\.\t\t\t\t\t\t\t         # single Dot .\n",
    "\t\t\t\t\t\t\t([a-z]{2,6})$\t\t\t\t   # Top level Domain\t\n",
    "\t\t\t\t\t\t\"\"\",re.VERBOSE | re.IGNORECASE)\n",
    "\n",
    "\t# RegexObject is matched with the desired string using fullmatch function\n",
    "\t# In case a match is found, search() returns a MatchObject Instance\n",
    "\tres=regex_email.fullmatch(email)\n",
    "\t#If match is found, the string is valid\n",
    "\tif res:\n",
    "\t\tprint(\"{} is Valid. Details are as follow:\".format(email))\n",
    "\t\t#prints first part/personal detail of Email Id\n",
    "\t\tprint(\"Local:{}\".format(res.group(1)))\t\n",
    "\t\t#prints Domain Name of Email Id\n",
    "\t\tprint(\"Domain:{}\".format(res.group(2)))\t\n",
    "\t\t#prints Top Level Domain Name of Email Id\n",
    "\t\tprint(\"Top Level domain:{}\".format(res.group(3)))\n",
    "\t\tprint()\t\t\n",
    "\telse:\n",
    "\t\t#If match is not found,string is invalid\n",
    "\t\tprint(\"{} is Invalid\".format(email))\n",
    "# Driver Code\n",
    "validate_email(\"singh.ashish.kr96@gmail.com\")\n",
    "validate_email(\"ashishkumar123@yahoo.com@\")\n",
    "validate_email(\"ashish@.com\")"
   ]
  },
  {
   "cell_type": "markdown",
   "id": "0e5e3d9e",
   "metadata": {},
   "source": [
    "### 20. How would you write a regex that match a number with comma for every three digits? It must match the given following:\n",
    "'42'\n",
    "'1,234'\n",
    "'6,368,745'\n"
   ]
  },
  {
   "cell_type": "code",
   "execution_count": 10,
   "id": "58c18ad2",
   "metadata": {},
   "outputs": [
    {
     "name": "stdout",
     "output_type": "stream",
     "text": [
      "Enter the input values:6\n",
      "['6']\n",
      "Yes, there is at least one match!\n"
     ]
    }
   ],
   "source": [
    "#https://regex101.com/r/65nMlq/2/\n",
    "import re\n",
    "txt = input(\"Enter the input values:\")\n",
    "x = re.findall(\"^((?:\\d{1,3},(?:\\d{3},)*\\d{3})|(?:\\d{1,3}))$\", txt)\n",
    "print(x)\n",
    "if x:\n",
    "  print(\"Yes, there is at least one match!\")\n",
    "else:\n",
    "  print(\"No match\")"
   ]
  },
  {
   "cell_type": "code",
   "execution_count": null,
   "id": "e143a682",
   "metadata": {},
   "outputs": [],
   "source": []
  },
  {
   "cell_type": "code",
   "execution_count": null,
   "id": "39a164ad",
   "metadata": {},
   "outputs": [],
   "source": []
  }
 ],
 "metadata": {
  "kernelspec": {
   "display_name": "Python 3",
   "language": "python",
   "name": "python3"
  },
  "language_info": {
   "codemirror_mode": {
    "name": "ipython",
    "version": 3
   },
   "file_extension": ".py",
   "mimetype": "text/x-python",
   "name": "python",
   "nbconvert_exporter": "python",
   "pygments_lexer": "ipython3",
   "version": "3.8.8"
  }
 },
 "nbformat": 4,
 "nbformat_minor": 5
}
